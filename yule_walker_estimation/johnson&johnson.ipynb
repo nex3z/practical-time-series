{
 "cells": [
  {
   "cell_type": "code",
   "execution_count": 1,
   "metadata": {},
   "outputs": [
    {
     "data": {
      "image/png": "[encoded data removed]",
      "text/plain": [
       "plot without title"
      ]
     },
     "metadata": {},
     "output_type": "display_data"
    }
   ],
   "source": [
    "options(repr.plot.width=8, repr.plot.height=4)\n",
    "plot(JohnsonJohnson)"
   ]
  },
  {
   "cell_type": "markdown",
   "metadata": {},
   "source": [
    "- Trend observed. Perform differential transform.\n",
    "- Variation increases over time. Perform log transform."
   ]
  },
  {
   "cell_type": "markdown",
   "metadata": {},
   "source": [
    "Log-return transform:\n",
    "$$ r_t = \\log\\bigg(\\frac{X_t}{X_{t-1}}\\bigg) = \\log(X_t) - \\log(X_{t-1})$$"
   ]
  },
  {
   "cell_type": "markdown",
   "metadata": {},
   "source": [
    "R code:\n",
    "\n",
    "```R\n",
    "diff(log(x_t))\n",
    "```"
   ]
  },
  {
   "cell_type": "code",
   "execution_count": 2,
   "metadata": {},
   "outputs": [],
   "source": [
    "jj.log.return <- diff(log(JohnsonJohnson))\n",
    "jj.log.zero.mean <- jj.log.return - mean(jj.log.return)"
   ]
  },
  {
   "cell_type": "code",
   "execution_count": 3,
   "metadata": {},
   "outputs": [],
   "source": [
    "ts.data <- jj.log.zero.mean"
   ]
  },
  {
   "cell_type": "code",
   "execution_count": 4,
   "metadata": {},
   "outputs": [
    {
     "data": {
      "image/png": "[encoded data removed]",
      "text/plain": [
       "plot without title"
      ]
     },
     "metadata": {},
     "output_type": "display_data"
    }
   ],
   "source": [
    "plot(ts.data)"
   ]
  },
  {
   "cell_type": "code",
   "execution_count": 5,
   "metadata": {},
   "outputs": [
    {
     "data": {
      "image/png": "[encoded data removed]",
      "text/plain": [
       "Plot with title \"Series  ts.data\""
      ]
     },
     "metadata": {},
     "output_type": "display_data"
    }
   ],
   "source": [
    "acf(ts.data)"
   ]
  },
  {
   "cell_type": "code",
   "execution_count": 6,
   "metadata": {},
   "outputs": [
    {
     "data": {
      "image/png": "[encoded data removed]",
      "text/plain": [
       "Plot with title \"Series  ts.data\""
      ]
     },
     "metadata": {},
     "output_type": "display_data"
    }
   ],
   "source": [
    "pacf(ts.data)"
   ]
  },
  {
   "cell_type": "code",
   "execution_count": 7,
   "metadata": {},
   "outputs": [
    {
     "data": {
      "text/html": [
       "<ol class=list-inline>\n",
       "\t<li>-0.506817600046513</li>\n",
       "\t<li>0.0671008385072088</li>\n",
       "\t<li>-0.402836036322625</li>\n",
       "\t<li>0.731447804138696</li>\n",
       "</ol>\n"
      ],
      "text/latex": [
       "\\begin{enumerate*}\n",
       "\\item -0.506817600046513\n",
       "\\item 0.0671008385072088\n",
       "\\item -0.402836036322625\n",
       "\\item 0.731447804138696\n",
       "\\end{enumerate*}\n"
      ],
      "text/markdown": [
       "1. -0.506817600046513\n",
       "2. 0.0671008385072088\n",
       "3. -0.402836036322625\n",
       "4. 0.731447804138696\n",
       "\n",
       "\n"
      ],
      "text/plain": [
       "[1] -0.50681760  0.06710084 -0.40283604  0.73144780"
      ]
     },
     "metadata": {},
     "output_type": "display_data"
    }
   ],
   "source": [
    "p <- 4\n",
    "r <- acf(ts.data, plot=F)$acf[2:(p+1)]\n",
    "r"
   ]
  },
  {
   "cell_type": "code",
   "execution_count": 8,
   "metadata": {},
   "outputs": [
    {
     "data": {
      "text/html": [
       "<table>\n",
       "<tbody>\n",
       "\t<tr><td> 1.00000000</td><td>-0.50681760</td><td> 0.06710084</td><td>-0.40283604</td></tr>\n",
       "\t<tr><td>-0.50681760</td><td> 1.00000000</td><td>-0.50681760</td><td> 0.06710084</td></tr>\n",
       "\t<tr><td> 0.06710084</td><td>-0.50681760</td><td> 1.00000000</td><td>-0.50681760</td></tr>\n",
       "\t<tr><td>-0.40283604</td><td> 0.06710084</td><td>-0.50681760</td><td> 1.00000000</td></tr>\n",
       "</tbody>\n",
       "</table>\n"
      ],
      "text/latex": [
       "\\begin{tabular}{llll}\n",
       "\t  1.00000000 & -0.50681760 &  0.06710084 & -0.40283604\\\\\n",
       "\t -0.50681760 &  1.00000000 & -0.50681760 &  0.06710084\\\\\n",
       "\t  0.06710084 & -0.50681760 &  1.00000000 & -0.50681760\\\\\n",
       "\t -0.40283604 &  0.06710084 & -0.50681760 &  1.00000000\\\\\n",
       "\\end{tabular}\n"
      ],
      "text/markdown": [
       "\n",
       "|  1.00000000 | -0.50681760 |  0.06710084 | -0.40283604 |\n",
       "| -0.50681760 |  1.00000000 | -0.50681760 |  0.06710084 |\n",
       "|  0.06710084 | -0.50681760 |  1.00000000 | -0.50681760 |\n",
       "| -0.40283604 |  0.06710084 | -0.50681760 |  1.00000000 |\n",
       "\n"
      ],
      "text/plain": [
       "     [,1]        [,2]        [,3]        [,4]       \n",
       "[1,]  1.00000000 -0.50681760  0.06710084 -0.40283604\n",
       "[2,] -0.50681760  1.00000000 -0.50681760  0.06710084\n",
       "[3,]  0.06710084 -0.50681760  1.00000000 -0.50681760\n",
       "[4,] -0.40283604  0.06710084 -0.50681760  1.00000000"
      ]
     },
     "metadata": {},
     "output_type": "display_data"
    }
   ],
   "source": [
    "R <- matrix(1, p, p)\n",
    "for(i in 1:p) {\n",
    "    for(j in 1:p) {\n",
    "        if(i != j) {\n",
    "            R[i, j] <- r[abs(i - j)]\n",
    "        }\n",
    "    }\n",
    "}\n",
    "R"
   ]
  },
  {
   "cell_type": "code",
   "execution_count": 9,
   "metadata": {},
   "outputs": [
    {
     "data": {
      "text/html": [
       "<table>\n",
       "<tbody>\n",
       "\t<tr><td>-0.50681760</td></tr>\n",
       "\t<tr><td> 0.06710084</td></tr>\n",
       "\t<tr><td>-0.40283604</td></tr>\n",
       "\t<tr><td> 0.73144780</td></tr>\n",
       "</tbody>\n",
       "</table>\n"
      ],
      "text/latex": [
       "\\begin{tabular}{l}\n",
       "\t -0.50681760\\\\\n",
       "\t  0.06710084\\\\\n",
       "\t -0.40283604\\\\\n",
       "\t  0.73144780\\\\\n",
       "\\end{tabular}\n"
      ],
      "text/markdown": [
       "\n",
       "| -0.50681760 |\n",
       "|  0.06710084 |\n",
       "| -0.40283604 |\n",
       "|  0.73144780 |\n",
       "\n"
      ],
      "text/plain": [
       "     [,1]       \n",
       "[1,] -0.50681760\n",
       "[2,]  0.06710084\n",
       "[3,] -0.40283604\n",
       "[4,]  0.73144780"
      ]
     },
     "metadata": {},
     "output_type": "display_data"
    }
   ],
   "source": [
    "b <- matrix(r, p, 1)\n",
    "b"
   ]
  },
  {
   "cell_type": "code",
   "execution_count": 10,
   "metadata": {},
   "outputs": [
    {
     "data": {
      "text/html": [
       "<table>\n",
       "<tbody>\n",
       "\t<tr><td>-0.6293492</td></tr>\n",
       "\t<tr><td>-0.5171526</td></tr>\n",
       "\t<tr><td>-0.4883374</td></tr>\n",
       "\t<tr><td> 0.2651266</td></tr>\n",
       "</tbody>\n",
       "</table>\n"
      ],
      "text/latex": [
       "\\begin{tabular}{l}\n",
       "\t -0.6293492\\\\\n",
       "\t -0.5171526\\\\\n",
       "\t -0.4883374\\\\\n",
       "\t  0.2651266\\\\\n",
       "\\end{tabular}\n"
      ],
      "text/markdown": [
       "\n",
       "| -0.6293492 |\n",
       "| -0.5171526 |\n",
       "| -0.4883374 |\n",
       "|  0.2651266 |\n",
       "\n"
      ],
      "text/plain": [
       "     [,1]      \n",
       "[1,] -0.6293492\n",
       "[2,] -0.5171526\n",
       "[3,] -0.4883374\n",
       "[4,]  0.2651266"
      ]
     },
     "metadata": {},
     "output_type": "display_data"
    }
   ],
   "source": [
    "phi.hat <- solve(R, b)\n",
    "phi.hat"
   ]
  },
  {
   "cell_type": "code",
   "execution_count": 11,
   "metadata": {},
   "outputs": [
    {
     "data": {
      "text/html": [
       "0.0141924234234426"
      ],
      "text/latex": [
       "0.0141924234234426"
      ],
      "text/markdown": [
       "0.0141924234234426"
      ],
      "text/plain": [
       "[1] 0.01419242"
      ]
     },
     "metadata": {},
     "output_type": "display_data"
    }
   ],
   "source": [
    "c0 <- acf(ts.data, type='covariance', plot=F)$acf[1]\n",
    "var.hat <- c0*(1 - sum(phi.hat*r))\n",
    "var.hat"
   ]
  },
  {
   "cell_type": "code",
   "execution_count": 12,
   "metadata": {},
   "outputs": [
    {
     "data": {
      "text/html": [
       "0.0797810030728414"
      ],
      "text/latex": [
       "0.0797810030728414"
      ],
      "text/markdown": [
       "0.0797810030728414"
      ],
      "text/plain": [
       "[1] 0.079781"
      ]
     },
     "metadata": {},
     "output_type": "display_data"
    }
   ],
   "source": [
    "phi0.hat <- mean(jj.log.return) * (1 - sum(phi.hat))\n",
    "phi0.hat"
   ]
  },
  {
   "cell_type": "code",
   "execution_count": 13,
   "metadata": {},
   "outputs": [
    {
     "name": "stdout",
     "output_type": "stream",
     "text": [
      "Constant: 0.079781 \n",
      "Coeffcinets: -0.6293492 -0.5171526 -0.4883374 0.2651266 \n",
      "Variance: 0.01419242"
     ]
    }
   ],
   "source": [
    "cat(\"Constant:\", phi0.hat,\"\\nCoeffcinets:\", phi.hat, \"\\nVariance:\", var.hat)"
   ]
  },
  {
   "cell_type": "markdown",
   "metadata": {},
   "source": [
    "Final model:\n",
    "\n",
    "$$ r_t = 0.079781 - 0.6293492 r_{t-1} - 0.5171526 r_{t-2} - 0.4883374 r_{t-3} + 0.2651266 r_{t-4} + e_t$$\n",
    "\n",
    "where\n",
    "\n",
    "$$ e_t \\sim N(0, 0.01419242) $$\n",
    "$$ r_t = \\log\\bigg(\\frac{X_t}{X_{t-1}}\\bigg) $$"
   ]
  }
 ],
 "metadata": {
  "kernelspec": {
   "display_name": "R",
   "language": "R",
   "name": "ir"
  },
  "language_info": {
   "codemirror_mode": "r",
   "file_extension": ".r",
   "mimetype": "text/x-r-source",
   "name": "R",
   "pygments_lexer": "r",
   "version": "3.6.0"
  }
 },
 "nbformat": 4,
 "nbformat_minor": 2
}
