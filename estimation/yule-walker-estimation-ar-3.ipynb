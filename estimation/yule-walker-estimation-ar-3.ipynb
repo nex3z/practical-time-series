{
 "cells": [
  {
   "cell_type": "code",
   "execution_count": 1,
   "metadata": {},
   "outputs": [],
   "source": [
    "set.seed(42)"
   ]
  },
  {
   "cell_type": "code",
   "execution_count": 2,
   "metadata": {},
   "outputs": [],
   "source": [
    "ar.process=arima.sim(10000, model=list(ar=c(1/3, 1/2, 7/100)), sd=4)"
   ]
  },
  {
   "cell_type": "code",
   "execution_count": 3,
   "metadata": {},
   "outputs": [
    {
     "data": {
      "image/png": "[encoded data removed]",
      "text/plain": [
       "Plot with title \"PACF\""
      ]
     },
     "metadata": {},
     "output_type": "display_data"
    }
   ],
   "source": [
    "options(repr.plot.width=8, repr.plot.height=8)\n",
    "par(mfrow=c(3, 1))\n",
    "plot(ar.process, main=\"AR(3) Simulation\")\n",
    "acf(ar.process, main=\"ACF\")\n",
    "pacf(ar.process, main=\"PACF\")"
   ]
  },
  {
   "cell_type": "code",
   "execution_count": 4,
   "metadata": {},
   "outputs": [
    {
     "data": {
      "text/html": [
       "<ol class=list-inline>\n",
       "\t<li>0.784915199898031</li>\n",
       "\t<li>0.822428934904029</li>\n",
       "\t<li>0.739283139092503</li>\n",
       "</ol>\n"
      ],
      "text/latex": [
       "\\begin{enumerate*}\n",
       "\\item 0.784915199898031\n",
       "\\item 0.822428934904029\n",
       "\\item 0.739283139092503\n",
       "\\end{enumerate*}\n"
      ],
      "text/markdown": [
       "1. 0.784915199898031\n",
       "2. 0.822428934904029\n",
       "3. 0.739283139092503\n",
       "\n",
       "\n"
      ],
      "text/plain": [
       "[1] 0.7849152 0.8224289 0.7392831"
      ]
     },
     "metadata": {},
     "output_type": "display_data"
    }
   ],
   "source": [
    "r <- acf(ar.process, plot=F)$acf[2:4]\n",
    "r"
   ]
  },
  {
   "cell_type": "code",
   "execution_count": 5,
   "metadata": {},
   "outputs": [
    {
     "data": {
      "text/html": [
       "<table>\n",
       "<tbody>\n",
       "\t<tr><td>1.0000000</td><td>0.7849152</td><td>0.8224289</td></tr>\n",
       "\t<tr><td>0.7849152</td><td>1.0000000</td><td>0.7849152</td></tr>\n",
       "\t<tr><td>0.8224289</td><td>0.7849152</td><td>1.0000000</td></tr>\n",
       "</tbody>\n",
       "</table>\n"
      ],
      "text/latex": [
       "\\begin{tabular}{lll}\n",
       "\t 1.0000000 & 0.7849152 & 0.8224289\\\\\n",
       "\t 0.7849152 & 1.0000000 & 0.7849152\\\\\n",
       "\t 0.8224289 & 0.7849152 & 1.0000000\\\\\n",
       "\\end{tabular}\n"
      ],
      "text/markdown": [
       "\n",
       "| 1.0000000 | 0.7849152 | 0.8224289 |\n",
       "| 0.7849152 | 1.0000000 | 0.7849152 |\n",
       "| 0.8224289 | 0.7849152 | 1.0000000 |\n",
       "\n"
      ],
      "text/plain": [
       "     [,1]      [,2]      [,3]     \n",
       "[1,] 1.0000000 0.7849152 0.8224289\n",
       "[2,] 0.7849152 1.0000000 0.7849152\n",
       "[3,] 0.8224289 0.7849152 1.0000000"
      ]
     },
     "metadata": {},
     "output_type": "display_data"
    }
   ],
   "source": [
    "R <- matrix(1, 3, 3)\n",
    "R[1, 2] <- r[1]\n",
    "R[2, 1] <- r[1]\n",
    "R[1, 3] <- r[2]\n",
    "R[3, 1] <- r[2]\n",
    "R[2, 3] <- r[1]\n",
    "R[3, 2] <- r[1]\n",
    "R"
   ]
  },
  {
   "cell_type": "code",
   "execution_count": 6,
   "metadata": {},
   "outputs": [
    {
     "data": {
      "text/html": [
       "<table>\n",
       "<tbody>\n",
       "\t<tr><td>0.7849152</td></tr>\n",
       "\t<tr><td>0.8224289</td></tr>\n",
       "\t<tr><td>0.7392831</td></tr>\n",
       "</tbody>\n",
       "</table>\n"
      ],
      "text/latex": [
       "\\begin{tabular}{l}\n",
       "\t 0.7849152\\\\\n",
       "\t 0.8224289\\\\\n",
       "\t 0.7392831\\\\\n",
       "\\end{tabular}\n"
      ],
      "text/markdown": [
       "\n",
       "| 0.7849152 |\n",
       "| 0.8224289 |\n",
       "| 0.7392831 |\n",
       "\n"
      ],
      "text/plain": [
       "     [,1]     \n",
       "[1,] 0.7849152\n",
       "[2,] 0.8224289\n",
       "[3,] 0.7392831"
      ]
     },
     "metadata": {},
     "output_type": "display_data"
    }
   ],
   "source": [
    "b <- matrix(r, nrow=3, ncol=1)\n",
    "b"
   ]
  },
  {
   "cell_type": "code",
   "execution_count": 7,
   "metadata": {},
   "outputs": [
    {
     "data": {
      "text/html": [
       "<table>\n",
       "<tbody>\n",
       "\t<tr><td>0.3259706</td></tr>\n",
       "\t<tr><td>0.5124173</td></tr>\n",
       "\t<tr><td>0.0689914</td></tr>\n",
       "</tbody>\n",
       "</table>\n"
      ],
      "text/latex": [
       "\\begin{tabular}{l}\n",
       "\t 0.3259706\\\\\n",
       "\t 0.5124173\\\\\n",
       "\t 0.0689914\\\\\n",
       "\\end{tabular}\n"
      ],
      "text/markdown": [
       "\n",
       "| 0.3259706 |\n",
       "| 0.5124173 |\n",
       "| 0.0689914 |\n",
       "\n"
      ],
      "text/plain": [
       "     [,1]     \n",
       "[1,] 0.3259706\n",
       "[2,] 0.5124173\n",
       "[3,] 0.0689914"
      ]
     },
     "metadata": {},
     "output_type": "display_data"
    }
   ],
   "source": [
    "phi.hat <- solve(R, b)\n",
    "phi.hat"
   ]
  },
  {
   "cell_type": "code",
   "execution_count": 8,
   "metadata": {},
   "outputs": [
    {
     "data": {
      "text/html": [
       "4.02255420924941"
      ],
      "text/latex": [
       "4.02255420924941"
      ],
      "text/markdown": [
       "4.02255420924941"
      ],
      "text/plain": [
       "[1] 4.022554"
      ]
     },
     "metadata": {},
     "output_type": "display_data"
    }
   ],
   "source": [
    "c0 <- acf(ar.process, type='covariance', plot=F)$acf[1]\n",
    "var.hat <- c0 * (1 - sum(phi.hat * r))\n",
    "sd.hat <- sqrt(var.hat)\n",
    "sd.hat"
   ]
  }
 ],
 "metadata": {
  "kernelspec": {
   "display_name": "R",
   "language": "R",
   "name": "ir"
  },
  "language_info": {
   "codemirror_mode": "r",
   "file_extension": ".r",
   "mimetype": "text/x-r-source",
   "name": "R",
   "pygments_lexer": "r",
   "version": "3.6.0"
  }
 },
 "nbformat": 4,
 "nbformat_minor": 2
}
