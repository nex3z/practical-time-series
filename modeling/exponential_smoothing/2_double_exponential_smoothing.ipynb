{
 "cells": [
  {
   "cell_type": "code",
   "execution_count": 1,
   "metadata": {},
   "outputs": [],
   "source": [
    "options(repr.plot.width=8, repr.plot.height=4)"
   ]
  },
  {
   "cell_type": "code",
   "execution_count": 2,
   "metadata": {},
   "outputs": [
    {
     "data": {
      "image/png": "[encoded data removed]",
      "text/plain": [
       "plot without title"
      ]
     },
     "metadata": {},
     "output_type": "display_data"
    }
   ],
   "source": [
    "data.ts <- austres\n",
    "plot(data.ts)"
   ]
  },
  {
   "cell_type": "code",
   "execution_count": 3,
   "metadata": {},
   "outputs": [
    {
     "data": {
      "image/png": "[encoded data removed]",
      "text/plain": [
       "Plot with title \"Series  data.ts\""
      ]
     },
     "metadata": {},
     "output_type": "display_data"
    },
    {
     "data": {
      "image/png": "[encoded data removed]",
      "text/plain": [
       "Plot with title \"Series  data.ts\""
      ]
     },
     "metadata": {},
     "output_type": "display_data"
    }
   ],
   "source": [
    "acf(data.ts)\n",
    "pacf(data.ts)"
   ]
  },
  {
   "cell_type": "markdown",
   "metadata": {},
   "source": [
    "## Manual calcuation"
   ]
  },
  {
   "cell_type": "code",
   "execution_count": 4,
   "metadata": {},
   "outputs": [
    {
     "data": {
      "text/html": [
       "<ol class=list-inline>\n",
       "\t<li>13193.7</li>\n",
       "\t<li>13263.245</li>\n",
       "\t<li>13316.34925</li>\n",
       "\t<li>13360.5175125</li>\n",
       "\t<li>13407.136458125</li>\n",
       "\t<li>13462.6319465312</li>\n",
       "\t<li>13511.5471194328</li>\n",
       "\t<li>13554.0374329782</li>\n",
       "\t<li>13600.9296194926</li>\n",
       "\t<li>13667.1655093723</li>\n",
       "</ol>\n"
      ],
      "text/latex": [
       "\\begin{enumerate*}\n",
       "\\item 13193.7\n",
       "\\item 13263.245\n",
       "\\item 13316.34925\n",
       "\\item 13360.5175125\n",
       "\\item 13407.136458125\n",
       "\\item 13462.6319465312\n",
       "\\item 13511.5471194328\n",
       "\\item 13554.0374329782\n",
       "\\item 13600.9296194926\n",
       "\\item 13667.1655093723\n",
       "\\end{enumerate*}\n"
      ],
      "text/markdown": [
       "1. 13193.7\n",
       "2. 13263.245\n",
       "3. 13316.34925\n",
       "4. 13360.5175125\n",
       "5. 13407.136458125\n",
       "6. 13462.6319465312\n",
       "7. 13511.5471194328\n",
       "8. 13554.0374329782\n",
       "9. 13600.9296194926\n",
       "10. 13667.1655093723\n",
       "\n",
       "\n"
      ],
      "text/plain": [
       " [1] 13193.70 13263.25 13316.35 13360.52 13407.14 13462.63 13511.55 13554.04\n",
       " [9] 13600.93 13667.17"
      ]
     },
     "metadata": {},
     "output_type": "display_data"
    }
   ],
   "source": [
    "alpha <- 0.9\n",
    "beta <- 0.5\n",
    "manual.forecast <- NULL\n",
    "level <- NULL\n",
    "trend <- NULL\n",
    "\n",
    "level[1] <- data.ts[1]\n",
    "trend[1] <- data.ts[2] - data.ts[1]\n",
    "manual.forecast[1] <- data.ts[1]\n",
    "manual.forecast[2] <- data.ts[2]\n",
    "\n",
    "for (n in 2:length(data.ts)) {\n",
    "    level[n] <- alpha * data.ts[n] + (1 - alpha)*(level[n-1] + trend[n-1])\n",
    "    trend[n] <- beta * (level[n] - level[n-1]) + (1 - beta)*trend[n-1]\n",
    "    manual.forecast[n+1] <- level[n] + trend[n]\n",
    "}\n",
    "\n",
    "manual.forecast[3:12]"
   ]
  },
  {
   "cell_type": "markdown",
   "metadata": {},
   "source": [
    "Verify calculation with HoltWinters function"
   ]
  },
  {
   "cell_type": "code",
   "execution_count": 5,
   "metadata": {},
   "outputs": [
    {
     "data": {
      "text/html": [
       "<ol class=list-inline>\n",
       "\t<li>13193.7</li>\n",
       "\t<li>13263.245</li>\n",
       "\t<li>13316.34925</li>\n",
       "\t<li>13360.5175125</li>\n",
       "\t<li>13407.136458125</li>\n",
       "\t<li>13462.6319465312</li>\n",
       "\t<li>13511.5471194328</li>\n",
       "\t<li>13554.0374329782</li>\n",
       "\t<li>13600.9296194926</li>\n",
       "\t<li>13667.1655093723</li>\n",
       "</ol>\n"
      ],
      "text/latex": [
       "\\begin{enumerate*}\n",
       "\\item 13193.7\n",
       "\\item 13263.245\n",
       "\\item 13316.34925\n",
       "\\item 13360.5175125\n",
       "\\item 13407.136458125\n",
       "\\item 13462.6319465312\n",
       "\\item 13511.5471194328\n",
       "\\item 13554.0374329782\n",
       "\\item 13600.9296194926\n",
       "\\item 13667.1655093723\n",
       "\\end{enumerate*}\n"
      ],
      "text/markdown": [
       "1. 13193.7\n",
       "2. 13263.245\n",
       "3. 13316.34925\n",
       "4. 13360.5175125\n",
       "5. 13407.136458125\n",
       "6. 13462.6319465312\n",
       "7. 13511.5471194328\n",
       "8. 13554.0374329782\n",
       "9. 13600.9296194926\n",
       "10. 13667.1655093723\n",
       "\n",
       "\n"
      ],
      "text/plain": [
       " [1] 13193.70 13263.25 13316.35 13360.52 13407.14 13462.63 13511.55 13554.04\n",
       " [9] 13600.93 13667.17"
      ]
     },
     "metadata": {},
     "output_type": "display_data"
    }
   ],
   "source": [
    "model <- HoltWinters(data.ts, alpha=0.9, beta=0.5, gamma=F)\n",
    "model$fitted[1:10]"
   ]
  },
  {
   "cell_type": "markdown",
   "metadata": {},
   "source": [
    "## Use HoltWinters function"
   ]
  },
  {
   "cell_type": "code",
   "execution_count": 6,
   "metadata": {},
   "outputs": [
    {
     "data": {
      "text/plain": [
       "Holt-Winters exponential smoothing with trend and without seasonal component.\n",
       "\n",
       "Call:\n",
       "HoltWinters(x = data.ts, gamma = F)\n",
       "\n",
       "Smoothing parameters:\n",
       " alpha: 1\n",
       " beta : 0.4062519\n",
       " gamma: FALSE\n",
       "\n",
       "Coefficients:\n",
       "        [,1]\n",
       "a 17661.5000\n",
       "b    43.2471"
      ]
     },
     "metadata": {},
     "output_type": "display_data"
    }
   ],
   "source": [
    "model <- HoltWinters(data.ts, gamma=F)\n",
    "model"
   ]
  },
  {
   "cell_type": "code",
   "execution_count": 7,
   "metadata": {},
   "outputs": [
    {
     "name": "stderr",
     "output_type": "stream",
     "text": [
      "Warning message:\n",
      "\"package 'forecast' was built under R version 3.6.1\""
     ]
    },
    {
     "data": {
      "text/plain": [
       "        Point Forecast    Lo 80    Hi 80    Lo 95    Hi 95\n",
       "1993 Q3       17704.75 17691.80 17717.70 17684.94 17724.56\n",
       "1993 Q4       17747.99 17725.64 17770.34 17713.81 17782.17\n",
       "1994 Q1       17791.24 17758.83 17823.65 17741.67 17840.81\n",
       "1994 Q2       17834.49 17791.17 17877.81 17768.24 17900.74\n",
       "1994 Q3       17877.74 17822.67 17932.80 17793.52 17961.95\n",
       "1994 Q4       17920.98 17853.35 17988.61 17817.55 18024.41\n",
       "1995 Q1       17964.23 17883.26 18045.20 17840.40 18088.06\n",
       "1995 Q2       18007.48 17912.43 18102.53 17862.11 18152.84"
      ]
     },
     "metadata": {},
     "output_type": "display_data"
    },
    {
     "data": {
      "image/png": "[encoded data removed]",
      "text/plain": [
       "Plot with title \"Forecasts from HoltWinters\""
      ]
     },
     "metadata": {},
     "output_type": "display_data"
    }
   ],
   "source": [
    "suppressMessages(library(forecast))\n",
    "model.forecast <- forecast(model)\n",
    "model.forecast\n",
    "\n",
    "plot(model.forecast)"
   ]
  }
 ],
 "metadata": {
  "kernelspec": {
   "display_name": "R",
   "language": "R",
   "name": "ir"
  },
  "language_info": {
   "codemirror_mode": "r",
   "file_extension": ".r",
   "mimetype": "text/x-r-source",
   "name": "R",
   "pygments_lexer": "r",
   "version": "3.6.0"
  }
 },
 "nbformat": 4,
 "nbformat_minor": 2
}
