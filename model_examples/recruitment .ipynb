{
 "cells": [
  {
   "cell_type": "code",
   "execution_count": 1,
   "metadata": {},
   "outputs": [],
   "source": [
    "library(astsa)"
   ]
  },
  {
   "cell_type": "code",
   "execution_count": 2,
   "metadata": {},
   "outputs": [
    {
     "data": {
      "image/png": "[encoded data removed]",
      "text/plain": [
       "plot without title"
      ]
     },
     "metadata": {},
     "output_type": "display_data"
    }
   ],
   "source": [
    "options(repr.plot.width=8, repr.plot.height=4)\n",
    "plot(rec)"
   ]
  },
  {
   "cell_type": "code",
   "execution_count": 3,
   "metadata": {},
   "outputs": [],
   "source": [
    "ts.data <- rec - mean(rec)"
   ]
  },
  {
   "cell_type": "code",
   "execution_count": 4,
   "metadata": {},
   "outputs": [
    {
     "data": {
      "image/png": "[encoded data removed]",
      "text/plain": [
       "Plot with title \"Series  ts.data\""
      ]
     },
     "metadata": {},
     "output_type": "display_data"
    }
   ],
   "source": [
    "acf(ts.data)"
   ]
  },
  {
   "cell_type": "code",
   "execution_count": 5,
   "metadata": {},
   "outputs": [
    {
     "data": {
      "image/png": "[encoded data removed]",
      "text/plain": [
       "Plot with title \"Series  ts.data\""
      ]
     },
     "metadata": {},
     "output_type": "display_data"
    }
   ],
   "source": [
    "pacf(ts.data)"
   ]
  },
  {
   "cell_type": "code",
   "execution_count": 6,
   "metadata": {},
   "outputs": [
    {
     "data": {
      "text/html": [
       "<ol class=list-inline>\n",
       "\t<li>0.921804213361113</li>\n",
       "\t<li>0.782918167698131</li>\n",
       "</ol>\n"
      ],
      "text/latex": [
       "\\begin{enumerate*}\n",
       "\\item 0.921804213361113\n",
       "\\item 0.782918167698131\n",
       "\\end{enumerate*}\n"
      ],
      "text/markdown": [
       "1. 0.921804213361113\n",
       "2. 0.782918167698131\n",
       "\n",
       "\n"
      ],
      "text/plain": [
       "[1] 0.9218042 0.7829182"
      ]
     },
     "metadata": {},
     "output_type": "display_data"
    }
   ],
   "source": [
    "p <- 2\n",
    "r <- acf(ts.data, plot=F)$acf[2:(p+1)]\n",
    "r"
   ]
  },
  {
   "cell_type": "code",
   "execution_count": 7,
   "metadata": {},
   "outputs": [
    {
     "data": {
      "text/html": [
       "<table>\n",
       "<tbody>\n",
       "\t<tr><td>1.0000000</td><td>0.9218042</td></tr>\n",
       "\t<tr><td>0.9218042</td><td>1.0000000</td></tr>\n",
       "</tbody>\n",
       "</table>\n"
      ],
      "text/latex": [
       "\\begin{tabular}{ll}\n",
       "\t 1.0000000 & 0.9218042\\\\\n",
       "\t 0.9218042 & 1.0000000\\\\\n",
       "\\end{tabular}\n"
      ],
      "text/markdown": [
       "\n",
       "| 1.0000000 | 0.9218042 |\n",
       "| 0.9218042 | 1.0000000 |\n",
       "\n"
      ],
      "text/plain": [
       "     [,1]      [,2]     \n",
       "[1,] 1.0000000 0.9218042\n",
       "[2,] 0.9218042 1.0000000"
      ]
     },
     "metadata": {},
     "output_type": "display_data"
    }
   ],
   "source": [
    "R <- matrix(1, p, p)\n",
    "for(i in 1:p) {\n",
    "    for(j in 1:p) {\n",
    "        if(i != j) {\n",
    "            R[i, j] <- r[abs(i - j)]\n",
    "        }\n",
    "    }\n",
    "}\n",
    "R"
   ]
  },
  {
   "cell_type": "code",
   "execution_count": 8,
   "metadata": {},
   "outputs": [
    {
     "data": {
      "text/html": [
       "<table>\n",
       "<tbody>\n",
       "\t<tr><td>0.9218042</td></tr>\n",
       "\t<tr><td>0.7829182</td></tr>\n",
       "</tbody>\n",
       "</table>\n"
      ],
      "text/latex": [
       "\\begin{tabular}{l}\n",
       "\t 0.9218042\\\\\n",
       "\t 0.7829182\\\\\n",
       "\\end{tabular}\n"
      ],
      "text/markdown": [
       "\n",
       "| 0.9218042 |\n",
       "| 0.7829182 |\n",
       "\n"
      ],
      "text/plain": [
       "     [,1]     \n",
       "[1,] 0.9218042\n",
       "[2,] 0.7829182"
      ]
     },
     "metadata": {},
     "output_type": "display_data"
    }
   ],
   "source": [
    "b <- matrix(r, p, 1)\n",
    "b"
   ]
  },
  {
   "cell_type": "code",
   "execution_count": 9,
   "metadata": {},
   "outputs": [
    {
     "data": {
      "text/html": [
       "<table>\n",
       "<tbody>\n",
       "\t<tr><td> 1.3315874</td></tr>\n",
       "\t<tr><td>-0.4445447</td></tr>\n",
       "</tbody>\n",
       "</table>\n"
      ],
      "text/latex": [
       "\\begin{tabular}{l}\n",
       "\t  1.3315874\\\\\n",
       "\t -0.4445447\\\\\n",
       "\\end{tabular}\n"
      ],
      "text/markdown": [
       "\n",
       "|  1.3315874 |\n",
       "| -0.4445447 |\n",
       "\n"
      ],
      "text/plain": [
       "     [,1]      \n",
       "[1,]  1.3315874\n",
       "[2,] -0.4445447"
      ]
     },
     "metadata": {},
     "output_type": "display_data"
    }
   ],
   "source": [
    "phi.hat <- solve(R, b)\n",
    "phi.hat"
   ]
  },
  {
   "cell_type": "code",
   "execution_count": 10,
   "metadata": {},
   "outputs": [
    {
     "data": {
      "text/html": [
       "94.1713101077287"
      ],
      "text/latex": [
       "94.1713101077287"
      ],
      "text/markdown": [
       "94.1713101077287"
      ],
      "text/plain": [
       "[1] 94.17131"
      ]
     },
     "metadata": {},
     "output_type": "display_data"
    }
   ],
   "source": [
    "c0 <- acf(ts.data, type='covariance', plot=F)$acf[1]\n",
    "var.hat <- c0*(1 - sum(phi.hat*r))\n",
    "var.hat"
   ]
  },
  {
   "cell_type": "code",
   "execution_count": 11,
   "metadata": {},
   "outputs": [
    {
     "data": {
      "text/html": [
       "7.03303626708593"
      ],
      "text/latex": [
       "7.03303626708593"
      ],
      "text/markdown": [
       "7.03303626708593"
      ],
      "text/plain": [
       "[1] 7.033036"
      ]
     },
     "metadata": {},
     "output_type": "display_data"
    }
   ],
   "source": [
    "phi0.hat <- mean(rec) * (1 - sum(phi.hat))\n",
    "phi0.hat"
   ]
  },
  {
   "cell_type": "code",
   "execution_count": 12,
   "metadata": {},
   "outputs": [
    {
     "name": "stdout",
     "output_type": "stream",
     "text": [
      "Constant: 7.033036 \n",
      "Coeffcinets: 1.331587 -0.4445447 \n",
      "Variance: 94.17131"
     ]
    }
   ],
   "source": [
    "cat(\"Constant:\", phi0.hat,\"\\nCoeffcinets:\", phi.hat, \"\\nVariance:\", var.hat)"
   ]
  },
  {
   "cell_type": "markdown",
   "metadata": {},
   "source": [
    "Final model:\n",
    "\n",
    "$$ X_t = 7.033036 + 1.331587 X_{t-1} - 0.4445447 X_{t-2} + e_t$$\n",
    "\n",
    "where\n",
    "\n",
    "$$ e_t \\sim N(0, 94.17131) $$"
   ]
  }
 ],
 "metadata": {
  "kernelspec": {
   "display_name": "R",
   "language": "R",
   "name": "ir"
  },
  "language_info": {
   "codemirror_mode": "r",
   "file_extension": ".r",
   "mimetype": "text/x-r-source",
   "name": "R",
   "pygments_lexer": "r",
   "version": "3.6.0"
  }
 },
 "nbformat": 4,
 "nbformat_minor": 2
}
