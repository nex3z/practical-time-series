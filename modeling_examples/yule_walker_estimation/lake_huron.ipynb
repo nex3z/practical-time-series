{
 "cells": [
  {
   "cell_type": "code",
   "execution_count": 1,
   "metadata": {},
   "outputs": [
    {
     "data": {
      "image/png": "[encoded data removed]",
      "text/plain": [
       "plot without title"
      ]
     },
     "metadata": {},
     "output_type": "display_data"
    }
   ],
   "source": [
    "options(repr.plot.width=8, repr.plot.height=4)\n",
    "plot(LakeHuron)"
   ]
  },
  {
   "cell_type": "code",
   "execution_count": 2,
   "metadata": {},
   "outputs": [],
   "source": [
    "ts.data <- diff(LakeHuron)"
   ]
  },
  {
   "cell_type": "code",
   "execution_count": 3,
   "metadata": {},
   "outputs": [
    {
     "data": {
      "image/png": "[encoded data removed]",
      "text/plain": [
       "plot without title"
      ]
     },
     "metadata": {},
     "output_type": "display_data"
    }
   ],
   "source": [
    "plot(ts.data)"
   ]
  },
  {
   "cell_type": "code",
   "execution_count": 4,
   "metadata": {},
   "outputs": [
    {
     "data": {
      "image/png": "[encoded data removed]",
      "text/plain": [
       "Plot with title \"Series  ts.data\""
      ]
     },
     "metadata": {},
     "output_type": "display_data"
    }
   ],
   "source": [
    "acf(ts.data)"
   ]
  },
  {
   "cell_type": "code",
   "execution_count": 5,
   "metadata": {},
   "outputs": [
    {
     "data": {
      "image/png": "[encoded data removed]",
      "text/plain": [
       "Plot with title \"Series  ts.data\""
      ]
     },
     "metadata": {},
     "output_type": "display_data"
    }
   ],
   "source": [
    "pacf(ts.data)"
   ]
  },
  {
   "cell_type": "code",
   "execution_count": 6,
   "metadata": {},
   "outputs": [
    {
     "data": {
      "text/html": [
       "<ol class=list-inline>\n",
       "\t<li>0.131924092945853</li>\n",
       "\t<li>-0.187087447396466</li>\n",
       "</ol>\n"
      ],
      "text/latex": [
       "\\begin{enumerate*}\n",
       "\\item 0.131924092945853\n",
       "\\item -0.187087447396466\n",
       "\\end{enumerate*}\n"
      ],
      "text/markdown": [
       "1. 0.131924092945853\n",
       "2. -0.187087447396466\n",
       "\n",
       "\n"
      ],
      "text/plain": [
       "[1]  0.1319241 -0.1870874"
      ]
     },
     "metadata": {},
     "output_type": "display_data"
    }
   ],
   "source": [
    "p <- 2\n",
    "r <- acf(ts.data, plot=F)$acf[2:(p+1)]\n",
    "r"
   ]
  },
  {
   "cell_type": "code",
   "execution_count": 7,
   "metadata": {},
   "outputs": [
    {
     "data": {
      "text/html": [
       "<table>\n",
       "<tbody>\n",
       "\t<tr><td>1.0000000</td><td>0.1319241</td></tr>\n",
       "\t<tr><td>0.1319241</td><td>1.0000000</td></tr>\n",
       "</tbody>\n",
       "</table>\n"
      ],
      "text/latex": [
       "\\begin{tabular}{ll}\n",
       "\t 1.0000000 & 0.1319241\\\\\n",
       "\t 0.1319241 & 1.0000000\\\\\n",
       "\\end{tabular}\n"
      ],
      "text/markdown": [
       "\n",
       "| 1.0000000 | 0.1319241 |\n",
       "| 0.1319241 | 1.0000000 |\n",
       "\n"
      ],
      "text/plain": [
       "     [,1]      [,2]     \n",
       "[1,] 1.0000000 0.1319241\n",
       "[2,] 0.1319241 1.0000000"
      ]
     },
     "metadata": {},
     "output_type": "display_data"
    }
   ],
   "source": [
    "R <- matrix(1, p, p)\n",
    "for(i in 1:p) {\n",
    "    for(j in 1:p) {\n",
    "        if(i != j) {\n",
    "            R[i, j] <- r[abs(i - j)]\n",
    "        }\n",
    "    }\n",
    "}\n",
    "R"
   ]
  },
  {
   "cell_type": "code",
   "execution_count": 8,
   "metadata": {},
   "outputs": [
    {
     "data": {
      "text/html": [
       "<table>\n",
       "<tbody>\n",
       "\t<tr><td> 0.1319241</td></tr>\n",
       "\t<tr><td>-0.1870874</td></tr>\n",
       "</tbody>\n",
       "</table>\n"
      ],
      "text/latex": [
       "\\begin{tabular}{l}\n",
       "\t  0.1319241\\\\\n",
       "\t -0.1870874\\\\\n",
       "\\end{tabular}\n"
      ],
      "text/markdown": [
       "\n",
       "|  0.1319241 |\n",
       "| -0.1870874 |\n",
       "\n"
      ],
      "text/plain": [
       "     [,1]      \n",
       "[1,]  0.1319241\n",
       "[2,] -0.1870874"
      ]
     },
     "metadata": {},
     "output_type": "display_data"
    }
   ],
   "source": [
    "b <- matrix(r, p, 1)\n",
    "b"
   ]
  },
  {
   "cell_type": "code",
   "execution_count": 9,
   "metadata": {},
   "outputs": [
    {
     "data": {
      "text/html": [
       "<table>\n",
       "<tbody>\n",
       "\t<tr><td> 0.1593793</td></tr>\n",
       "\t<tr><td>-0.2081134</td></tr>\n",
       "</tbody>\n",
       "</table>\n"
      ],
      "text/latex": [
       "\\begin{tabular}{l}\n",
       "\t  0.1593793\\\\\n",
       "\t -0.2081134\\\\\n",
       "\\end{tabular}\n"
      ],
      "text/markdown": [
       "\n",
       "|  0.1593793 |\n",
       "| -0.2081134 |\n",
       "\n"
      ],
      "text/plain": [
       "     [,1]      \n",
       "[1,]  0.1593793\n",
       "[2,] -0.2081134"
      ]
     },
     "metadata": {},
     "output_type": "display_data"
    }
   ],
   "source": [
    "phi.hat <- solve(R, b)\n",
    "phi.hat"
   ]
  },
  {
   "cell_type": "code",
   "execution_count": 10,
   "metadata": {},
   "outputs": [
    {
     "data": {
      "text/html": [
       "0.521994548155539"
      ],
      "text/latex": [
       "0.521994548155539"
      ],
      "text/markdown": [
       "0.521994548155539"
      ],
      "text/plain": [
       "[1] 0.5219945"
      ]
     },
     "metadata": {},
     "output_type": "display_data"
    }
   ],
   "source": [
    "c0 <- acf(ts.data, type='covariance', plot=F)$acf[1]\n",
    "var.hat <- c0*(1 - sum(phi.hat*r))\n",
    "var.hat"
   ]
  },
  {
   "cell_type": "code",
   "execution_count": 11,
   "metadata": {},
   "outputs": [
    {
     "name": "stdout",
     "output_type": "stream",
     "text": [
      "Coeffcinets: 0.1593793 -0.2081134 \n",
      "Variance: 0.5219945"
     ]
    }
   ],
   "source": [
    "cat(\"Coeffcinets:\", phi.hat, \"\\nVariance:\", var.hat)"
   ]
  },
  {
   "cell_type": "markdown",
   "metadata": {},
   "source": [
    "Final model:\n",
    "\n",
    "$$ Y_t = 0.1593793 X_{t-1} - 0.2081134 Y_{t-2} + e_t$$\n",
    "\n",
    "where\n",
    "\n",
    "$$ e_t \\sim N(0, 0.5219945) $$\n",
    "$$ Y_t = X_t - X_{t-1} $$"
   ]
  },
  {
   "cell_type": "markdown",
   "metadata": {},
   "source": [
    "That is\n",
    "$$ (1 - 0.1593793B + 0.2081134B^2)Y_t = e_t$$\n",
    "$$ (1 - 0.1593793B + 0.2081134B^2)(1 - B)X_t = e_t $$"
   ]
  }
 ],
 "metadata": {
  "kernelspec": {
   "display_name": "R",
   "language": "R",
   "name": "ir"
  },
  "language_info": {
   "codemirror_mode": "r",
   "file_extension": ".r",
   "mimetype": "text/x-r-source",
   "name": "R",
   "pygments_lexer": "r",
   "version": "3.6.0"
  }
 },
 "nbformat": 4,
 "nbformat_minor": 4
}
